{
 "cells": [
  {
   "cell_type": "markdown",
   "metadata": {},
   "source": [
    "# Your name: David (Jung Won) Yang\n",
    "\n",
    "# Your netID: jwy273"
   ]
  },
  {
   "cell_type": "markdown",
   "metadata": {},
   "source": [
    "### Problem 1 (10 points)\n",
    "\n",
    "Do Problem 7 in W 7.4"
   ]
  },
  {
   "cell_type": "code",
   "execution_count": 172,
   "metadata": {},
   "outputs": [
    {
     "data": {
      "image/png": "[encoded data removed]",
      "text/plain": [
       "<matplotlib.figure.Figure at 0x28dc94b7a90>"
      ]
     },
     "metadata": {},
     "output_type": "display_data"
    },
    {
     "name": "stdout",
     "output_type": "stream",
     "text": [
      "[0.48305305916532626, 0.56894694083467379]\n"
     ]
    }
   ],
   "source": [
    "import numpy as np\n",
    "import pandas as pd\n",
    "import matplotlib.pyplot as plt\n",
    "from statsmodels.distributions.empirical_distribution import ECDF\n",
    "\n",
    "datadir = '/Users/david/Desktop/'\n",
    "quakes = pd.read_table(datadir + '/fijiquakes.dat', delimiter=r\"\\s+\", index_col='Obs.')\n",
    "\n",
    "def epsilon(x, a):\n",
    "    n = len(x)\n",
    "    return np.sqrt(np.log(2 / a) / (2*n))\n",
    "\n",
    "Fhat = ECDF(quakes['mag'])\n",
    "eps = epsilon(quakes['mag'],.05)\n",
    "\n",
    "#plot 95% confidence interval\n",
    "plt.plot(quakes.mag, Fhat(quakes['mag']),'bo', label = r'Empirical CDF $\\hat{F}_n(x)$' )\n",
    "plt.plot(quakes.mag, np.minimum(Fhat(quakes['mag']) + eps,1), 'ro', label = r'$\\hat{F}_n(x)+\\varepsilon_n$')\n",
    "plt.plot(quakes.mag, np.maximum(Fhat(quakes['mag']) - eps,0), 'ro', label = r'$\\hat{F}_n(x)-\\varepsilon_n$')\n",
    "plt.legend(loc = 4)\n",
    "plt.show()\n",
    "\n",
    "approx = Fhat(4.9) - Fhat(4.3)\n",
    "ci = [approx-eps,approx+eps]\n",
    "print(ci)"
   ]
  },
  {
   "cell_type": "markdown",
   "metadata": {},
   "source": [
    "### Problem 2 (10 points)\n",
    "\n",
    "Do Problem 6 in W 8.6"
   ]
  },
  {
   "cell_type": "code",
   "execution_count": 176,
   "metadata": {},
   "outputs": [
    {
     "name": "stdout",
     "output_type": "stream",
     "text": [
      "(133.30734450144917, 152.3851691466154)\n",
      "4.86679200132\n"
     ]
    },
    {
     "data": {
      "image/png": "[encoded data removed]",
      "text/plain": [
       "<matplotlib.figure.Figure at 0x28dcbf0e470>"
      ]
     },
     "metadata": {},
     "output_type": "display_data"
    }
   ],
   "source": [
    "import numpy as np\n",
    "import pandas as pd\n",
    "import matplotlib.pyplot as plt\n",
    "\n",
    "X = np.random.normal(5,1,100)\n",
    "\n",
    "exponential = []\n",
    "means = []\n",
    "\n",
    "for i in range(1000):\n",
    "    sample = np.random.choice(X, size=1000)\n",
    "    x_bar = np.mean(sample)\n",
    "    means.append(x_bar)\n",
    "    exponential.append(np.exp(x_bar))\n",
    "\n",
    "theta_hat = np.mean(exponential)\n",
    "se_hat = np.std(exponential)\n",
    "print((theta_hat-1.96*se_hat, theta_hat+1.96*se_hat))\n",
    "print(se_hat)\n",
    "\n",
    "estimatial = np.array(estimates)\n",
    "plt.hist(estimates)\n",
    "plt.show()"
   ]
  },
  {
   "cell_type": "markdown",
   "metadata": {},
   "source": [
    "### Problem 3 (10 points)\n",
    "\n",
    "Do Problem 7 in W 8.6 a, (Part b, is suggested but not to hand in). Indicate clearly, what the true distribution is.\n"
   ]
  },
  {
   "cell_type": "code",
   "execution_count": 181,
   "metadata": {},
   "outputs": [
    {
     "data": {
      "image/png": "[encoded data removed]",
      "text/plain": [
       "<matplotlib.figure.Figure at 0x28dcbc5e6d8>"
      ]
     },
     "metadata": {},
     "output_type": "display_data"
    },
    {
     "data": {
      "image/png": "[encoded data removed]",
      "text/plain": [
       "<matplotlib.figure.Figure at 0x28dcc2b1f98>"
      ]
     },
     "metadata": {},
     "output_type": "display_data"
    }
   ],
   "source": [
    "import numpy as np \n",
    "import pandas as pd \n",
    "import matplotlib.pyplot as plt\n",
    "\n",
    "X = np.random.rand(50) \n",
    "max = np.max(X)\n",
    "bootstrap = []\n",
    "for i in range(B):\n",
    "    sample = np.random.choice(X, size=50)\n",
    "    bootstrap.append(np.max(sample))\n",
    "plt.hist(bootstrap)\n",
    "plt.show()\n",
    "t = np.arange(.82, 1., 0.00005)\n",
    "plt.plot(t,np.power(50*t,(50-1)),'ro',)\n",
    "plt.show()\n"
   ]
  },
  {
   "cell_type": "code",
   "execution_count": null,
   "metadata": {
    "collapsed": true
   },
   "outputs": [],
   "source": []
  }
 ],
 "metadata": {
  "anaconda-cloud": {},
  "kernelspec": {
   "display_name": "Python 3",
   "language": "python",
   "name": "python3"
  },
  "language_info": {
   "codemirror_mode": {
    "name": "ipython",
    "version": 3
   },
   "file_extension": ".py",
   "mimetype": "text/x-python",
   "name": "python",
   "nbconvert_exporter": "python",
   "pygments_lexer": "ipython3",
   "version": "3.6.3"
  }
 },
 "nbformat": 4,
 "nbformat_minor": 1
}
