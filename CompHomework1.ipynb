{
 "cells": [
  {
   "cell_type": "markdown",
   "metadata": {},
   "source": [
    "# Your name: David (Jung Won) Yang\n",
    "\n",
    "# Your netID: jwy273"
   ]
  },
  {
   "cell_type": "markdown",
   "metadata": {},
   "source": [
    "### Exercise 0\n",
    "\n",
    "Study and play around with the notebooks:\n",
    "\n",
    "* Python_fundamentals.ipynb\n",
    "* Numpy_Basics.ipynb\n",
    "* Pandas_Basics.ipynb\n",
    "\n",
    "All the information needed to complete this assignment are contained in these notebooks or obtainable by a quick google search."
   ]
  },
  {
   "cell_type": "markdown",
   "metadata": {},
   "source": [
    "# Part 1: Python fundamentals (18 points)"
   ]
  },
  {
   "cell_type": "markdown",
   "metadata": {},
   "source": [
    "### Exercise 1 (2 points)\n",
    "\n",
    "Alice is sending a short email message to Bob. She wants to format the message on screen so she knows what she is sending. She is using the string called template below. Change the value of the template string to make it better."
   ]
  },
  {
   "cell_type": "code",
   "execution_count": 107,
   "metadata": {},
   "outputs": [
    {
     "data": {
      "text/plain": [
       "\"From alice@domain.org, To bob@domain.org,  Alice's Subject: This is my one line message!\""
      ]
     },
     "execution_count": 107,
     "metadata": {},
     "output_type": "execute_result"
    }
   ],
   "source": [
    "# Edit this string\n",
    "template =\"From {0}, To {1},  {2}: {3}\"\n",
    "\n",
    "# This should result in a nice message\n",
    "template.format(\"alice@domain.org\", \"bob@domain.org\", \"Alice's Subject\", \"This is my one line message!\")\n",
    "\n",
    " "
   ]
  },
  {
   "cell_type": "markdown",
   "metadata": {},
   "source": [
    "### Exercise 2 (2 points)\n",
    "\n",
    "Create a list of numbers where every item in the list is the same as its index, i.e. number_list[4] is 4. Create a list that contains 5 items, then create one that has a 1000."
   ]
  },
  {
   "cell_type": "code",
   "execution_count": 108,
   "metadata": {
    "collapsed": true
   },
   "outputs": [],
   "source": [
    "# Edit the contents of this list\n",
    "number_list1 = [0,1,2,3,4]\n",
    "number_list2 = list(range(1000))"
   ]
  },
  {
   "cell_type": "markdown",
   "metadata": {},
   "source": [
    "### Exercise 3 (8 points)\n",
    "\n",
    "First we need some data, in this case we want to create two dictionaries, each with a name and email key:"
   ]
  },
  {
   "cell_type": "code",
   "execution_count": 109,
   "metadata": {},
   "outputs": [
    {
     "name": "stdout",
     "output_type": "stream",
     "text": [
      "{'name': 'David', 'email': 'jwy273@nyu.edu'}\n",
      "{'name': 'David', 'email': 'davidjwyang@gmail.com'}\n"
     ]
    }
   ],
   "source": [
    "# Edit with the values you want.\n",
    "entry_1 = {'name': \"David\",\n",
    "           'email': \"jwy273@nyu.edu\"}\n",
    "\n",
    "# Add the keys and values to this entry like above.\n",
    "entry_2 = {'name': 'David',\n",
    "            'email' : 'davidjwyang@gmail.com'}\n",
    "\n",
    "print(entry_1)\n",
    "print(entry_2)"
   ]
  },
  {
   "cell_type": "markdown",
   "metadata": {},
   "source": [
    "Once you have two dictionaries, entry_1 and entry_2 with values for the keys 'name' and 'email', let's put them into a list."
   ]
  },
  {
   "cell_type": "code",
   "execution_count": 110,
   "metadata": {},
   "outputs": [
    {
     "name": "stdout",
     "output_type": "stream",
     "text": [
      "[{'name': 'David', 'email': 'jwy273@nyu.edu'}, {'name': 'David', 'email': 'davidjwyang@gmail.com'}]\n"
     ]
    }
   ],
   "source": [
    "entries = [entry_1,entry_2]  # Edit this list to include both entries\n",
    "\n",
    "print(entries)"
   ]
  },
  {
   "cell_type": "markdown",
   "metadata": {},
   "source": [
    "Now you can write your own message which uses both the 'name' and 'email' values. You can write anything you want. We are going to use another way to write Python strings, inside triple quote string you can just press enter for a newline, no \"\\n\" required. Just write as you would normally in an editor."
   ]
  },
  {
   "cell_type": "code",
   "execution_count": 111,
   "metadata": {},
   "outputs": [
    {
     "name": "stdout",
     "output_type": "stream",
     "text": [
      "To: jwy273@nyu.edu\n",
      "\n",
      "Hey David,\n",
      "\n",
      "How is the weather?\n",
      "\n"
     ]
    }
   ],
   "source": [
    "# Edit this message\n",
    "message = \"\"\"To: {0}\n",
    "\n",
    "Hey {1},\n",
    "\n",
    "How is the weather?\n",
    "\"\"\"\n",
    "\n",
    "print(message.format(entry_1['email'],entry_1['name']))"
   ]
  },
  {
   "cell_type": "markdown",
   "metadata": {},
   "source": [
    "Make sure your message includes \"{name}\" somewhere so it is personalized.\n",
    "\n",
    "Final step, let's use a for loop to combine everything! Change the for loop to format the message with each of the entries."
   ]
  },
  {
   "cell_type": "code",
   "execution_count": 112,
   "metadata": {},
   "outputs": [
    {
     "name": "stdout",
     "output_type": "stream",
     "text": [
      "To: jwy273@nyu.edu\n",
      "\n",
      "Hey David,\n",
      "\n",
      "How is the weather?\n",
      "\n",
      "----------------------------------------\n",
      "To: davidjwyang@gmail.com\n",
      "\n",
      "Hey David,\n",
      "\n",
      "How is the weather?\n",
      "\n",
      "----------------------------------------\n"
     ]
    }
   ],
   "source": [
    "for entry in entries:\n",
    "    print(message.format(entry['email'],entry['name'])) # Add .format with the right arguments\n",
    "    print(\"-\"*40)"
   ]
  },
  {
   "cell_type": "markdown",
   "metadata": {},
   "source": [
    "### Exercise 4 (2 points)"
   ]
  },
  {
   "cell_type": "markdown",
   "metadata": {},
   "source": [
    "You can also use \"and\" and \"or\" to combine conditions. Let's look at and.\n",
    "\n",
    "    True and True is True\n",
    "    True and False is False\n",
    "    False and True is False\n",
    "    False and False is False\n",
    "\n",
    "With \"and\" both conditions have to be True to be True. \n",
    "\n",
    "Below change the values of the three variables to make the entire \"if condition\" true."
   ]
  },
  {
   "cell_type": "code",
   "execution_count": 113,
   "metadata": {},
   "outputs": [
    {
     "name": "stdout",
     "output_type": "stream",
     "text": [
      "Success!\n"
     ]
    }
   ],
   "source": [
    "# Edit the values of these 3 variables to make the output of the conditional statement below true.\n",
    "boolean_literal = True\n",
    "number = 11\n",
    "string_literal = \"I like to count cows before bed.\"\n",
    "\n",
    "# Leave this code the same please\n",
    "if number > 10 and boolean_literal and \"cows\" in string_literal:\n",
    "    print(\"Success!\")\n",
    "else:\n",
    "    print(\"Try again!\")"
   ]
  },
  {
   "cell_type": "markdown",
   "metadata": {},
   "source": [
    "### Exercise 5 (4 points)\n",
    "\n",
    "Write a function that computes the values of the polynomial \n",
    "\n",
    "$$g(x)= x^7-x^6+2x-4$$\n",
    "\n",
    "then compute $g(3)$, $g(10)$, $g(100)$."
   ]
  },
  {
   "cell_type": "markdown",
   "metadata": {},
   "source": [
    "# Part 2: Numpy (22 points)"
   ]
  },
  {
   "cell_type": "code",
   "execution_count": 114,
   "metadata": {
    "collapsed": true
   },
   "outputs": [],
   "source": [
    "import numpy as np\n",
    "import matplotlib.pyplot as plt\n",
    "%matplotlib inline"
   ]
  },
  {
   "cell_type": "markdown",
   "metadata": {},
   "source": [
    "### Exercise 1 (6 points)\n",
    "\n",
    "Generate an NxK matrix of uniform random variables on the interval $[0,1]$:"
   ]
  },
  {
   "cell_type": "code",
   "execution_count": 181,
   "metadata": {},
   "outputs": [],
   "source": [
    "#Number of columns \n",
    "K = 5\n",
    "#Number of rows       \n",
    "N = 1000\n",
    "\n",
    "X = np.random.random([N,K])"
   ]
  },
  {
   "cell_type": "markdown",
   "metadata": {},
   "source": [
    "Let's peak at our data to confirm it looks as we expect it:"
   ]
  },
  {
   "cell_type": "code",
   "execution_count": 182,
   "metadata": {},
   "outputs": [
    {
     "data": {
      "text/plain": [
       "array([[ 0.84746039,  0.23489635,  0.23141257,  0.58768331,  0.78345831],\n",
       "       [ 0.44055486,  0.41655985,  0.53782217,  0.07300536,  0.75914101],\n",
       "       [ 0.15205637,  0.08071489,  0.85453275,  0.09300623,  0.90165189],\n",
       "       [ 0.72601688,  0.05458919,  0.24696062,  0.13865316,  0.08936521],\n",
       "       [ 0.45709879,  0.45640794,  0.70576794,  0.85366141,  0.06515424],\n",
       "       [ 0.5219011 ,  0.06103435,  0.00577848,  0.61019339,  0.17223279],\n",
       "       [ 0.45978034,  0.05674311,  0.71388897,  0.19612163,  0.2808973 ],\n",
       "       [ 0.65880614,  0.68224723,  0.88878334,  0.97553694,  0.70168539],\n",
       "       [ 0.75689649,  0.64877414,  0.95090719,  0.9105241 ,  0.83830337],\n",
       "       [ 0.15748113,  0.3932344 ,  0.84665402,  0.844579  ,  0.86996054],\n",
       "       [ 0.33958146,  0.21120214,  0.57506671,  0.12772325,  0.6996606 ],\n",
       "       [ 0.72771212,  0.81027619,  0.59393746,  0.57946492,  0.29023893],\n",
       "       [ 0.09892532,  0.21783524,  0.18218462,  0.18127299,  0.28357012],\n",
       "       [ 0.82789178,  0.36312786,  0.2826307 ,  0.40139173,  0.6104945 ],\n",
       "       [ 0.96644697,  0.89169703,  0.72817522,  0.64120135,  0.34712917],\n",
       "       [ 0.62431932,  0.4304664 ,  0.03728594,  0.09591758,  0.80715966],\n",
       "       [ 0.76291992,  0.97021583,  0.93057104,  0.71112476,  0.77640629],\n",
       "       [ 0.00200349,  0.8423149 ,  0.65998233,  0.804141  ,  0.69595353],\n",
       "       [ 0.96528395,  0.49189261,  0.68020281,  0.33863034,  0.7776583 ],\n",
       "       [ 0.1838617 ,  0.73030157,  0.11641015,  0.89011079,  0.66038109],\n",
       "       [ 0.89244675,  0.77633791,  0.56802839,  0.02066732,  0.99757326],\n",
       "       [ 0.11068537,  0.43672477,  0.02522502,  0.56034561,  0.86416244],\n",
       "       [ 0.64687718,  0.76139744,  0.70537327,  0.50303813,  0.2998117 ],\n",
       "       [ 0.46675344,  0.62656903,  0.11408024,  0.43646089,  0.14541194],\n",
       "       [ 0.84832347,  0.42709032,  0.75910037,  0.58033763,  0.87298106],\n",
       "       [ 0.84144397,  0.38320937,  0.2162712 ,  0.06570678,  0.10194598],\n",
       "       [ 0.16016348,  0.69997554,  0.49175029,  0.4018808 ,  0.45628869],\n",
       "       [ 0.55159429,  0.53986451,  0.30463923,  0.69746963,  0.22248382],\n",
       "       [ 0.01694324,  0.81225329,  0.19334831,  0.76451882,  0.90515291],\n",
       "       [ 0.37168483,  0.448018  ,  0.73800687,  0.32999762,  0.45688913],\n",
       "       [ 0.27341688,  0.26727842,  0.78212215,  0.55788232,  0.53800262],\n",
       "       [ 0.91805192,  0.56875957,  0.26004422,  0.64500422,  0.24886771],\n",
       "       [ 0.48281558,  0.44781086,  0.17554642,  0.33349761,  0.79613028],\n",
       "       [ 0.40200791,  0.73147557,  0.64243636,  0.71869608,  0.72008782],\n",
       "       [ 0.8457639 ,  0.63387063,  0.16847037,  0.69965968,  0.27632014],\n",
       "       [ 0.45023584,  0.47499125,  0.22805482,  0.74827889,  0.31620535],\n",
       "       [ 0.60117989,  0.01040689,  0.05978189,  0.27175298,  0.19979957],\n",
       "       [ 0.42879247,  0.84631985,  0.96730925,  0.99447459,  0.36003957],\n",
       "       [ 0.72039951,  0.4161167 ,  0.74746887,  0.1803467 ,  0.09307575],\n",
       "       [ 0.77441688,  0.03940328,  0.41793411,  0.19828491,  0.59906052],\n",
       "       [ 0.72548873,  0.90628097,  0.94872081,  0.27130748,  0.66968391],\n",
       "       [ 0.49104405,  0.78735437,  0.32866866,  0.80042656,  0.06594846],\n",
       "       [ 0.79528883,  0.42386999,  0.43574949,  0.35182007,  0.73420979],\n",
       "       [ 0.12336835,  0.4687487 ,  0.02412674,  0.79840195,  0.51587138],\n",
       "       [ 0.94248266,  0.70015323,  0.70511416,  0.15122624,  0.48669415],\n",
       "       [ 0.42877901,  0.0628777 ,  0.58716533,  0.62085677,  0.60843559],\n",
       "       [ 0.4100488 ,  0.20994318,  0.42377802,  0.55523038,  0.11499839],\n",
       "       [ 0.93378031,  0.69079659,  0.21442642,  0.08381124,  0.2935321 ],\n",
       "       [ 0.53628355,  0.98105478,  0.9097273 ,  0.03758441,  0.92683154],\n",
       "       [ 0.32431543,  0.25004745,  0.6500619 ,  0.32627852,  0.43107246],\n",
       "       [ 0.75999945,  0.66329677,  0.81673781,  0.69181212,  0.44424697],\n",
       "       [ 0.94945531,  0.6668635 ,  0.51053749,  0.49018226,  0.69139113],\n",
       "       [ 0.23495684,  0.31023158,  0.24407785,  0.01597809,  0.41885081],\n",
       "       [ 0.96348292,  0.39561322,  0.18836844,  0.343927  ,  0.21010108],\n",
       "       [ 0.98075242,  0.73305018,  0.09509647,  0.68142446,  0.80100681],\n",
       "       [ 0.4357063 ,  0.5883272 ,  0.4531091 ,  0.75701153,  0.98164304],\n",
       "       [ 0.6722785 ,  0.08093201,  0.34694625,  0.49937837,  0.55640158],\n",
       "       [ 0.93287139,  0.24791183,  0.22186959,  0.66602383,  0.13285116],\n",
       "       [ 0.11411605,  0.77328606,  0.70098702,  0.02202059,  0.59359647],\n",
       "       [ 0.61748359,  0.08474629,  0.26454578,  0.25124521,  0.81391963],\n",
       "       [ 0.57502189,  0.28792103,  0.19873486,  0.11495628,  0.89284385],\n",
       "       [ 0.93900126,  0.47706658,  0.92166133,  0.26332271,  0.29731947],\n",
       "       [ 0.24302345,  0.65511917,  0.94990414,  0.74515477,  0.49758603],\n",
       "       [ 0.41129157,  0.44891094,  0.0621252 ,  0.04073319,  0.39233362],\n",
       "       [ 0.80528381,  0.37122571,  0.80795388,  0.11632408,  0.28810184],\n",
       "       [ 0.10632474,  0.16187993,  0.65218911,  0.02974165,  0.83664823],\n",
       "       [ 0.99562594,  0.20119948,  0.30772778,  0.80760918,  0.45123998],\n",
       "       [ 0.98973143,  0.70090662,  0.1910739 ,  0.10205806,  0.71946106],\n",
       "       [ 0.72779581,  0.70155725,  0.12335501,  0.16445677,  0.34958609],\n",
       "       [ 0.66267412,  0.03241715,  0.49375027,  0.135124  ,  0.76631668],\n",
       "       [ 0.75518146,  0.92236827,  0.8601564 ,  0.67243434,  0.80508229],\n",
       "       [ 0.14140582,  0.03600478,  0.22807512,  0.71560208,  0.45628782],\n",
       "       [ 0.67759463,  0.18966482,  0.83677242,  0.19534442,  0.97745838],\n",
       "       [ 0.62908712,  0.79169729,  0.86794348,  0.34247489,  0.33556047],\n",
       "       [ 0.44353257,  0.09465867,  0.77044022,  0.74392275,  0.88039833],\n",
       "       [ 0.65229467,  0.17457682,  0.68196761,  0.56471103,  0.0027077 ],\n",
       "       [ 0.3144466 ,  0.21623202,  0.50131477,  0.05834914,  0.83845311],\n",
       "       [ 0.40582178,  0.30240599,  0.51022595,  0.78649421,  0.20269137],\n",
       "       [ 0.74806597,  0.14073851,  0.48115887,  0.68528319,  0.34545321],\n",
       "       [ 0.16229674,  0.36483042,  0.86010272,  0.53829814,  0.21144472],\n",
       "       [ 0.06508777,  0.50264049,  0.7324803 ,  0.36408313,  0.26785578],\n",
       "       [ 0.90410378,  0.50842087,  0.0338525 ,  0.48869321,  0.54445377],\n",
       "       [ 0.6481755 ,  0.03670142,  0.66599811,  0.39275698,  0.06962082],\n",
       "       [ 0.5685423 ,  0.30119644,  0.89905044,  0.20903797,  0.69478136],\n",
       "       [ 0.43584651,  0.5692178 ,  0.48703527,  0.91825615,  0.34941391],\n",
       "       [ 0.2225788 ,  0.39435516,  0.42273159,  0.44108921,  0.42014559],\n",
       "       [ 0.54390959,  0.46792123,  0.53319313,  0.49902315,  0.8655587 ],\n",
       "       [ 0.31539112,  0.27503067,  0.57447152,  0.01729228,  0.40440601],\n",
       "       [ 0.80263749,  0.54772405,  0.35780067,  0.70973148,  0.56369403],\n",
       "       [ 0.25619314,  0.1709034 ,  0.92123214,  0.09282984,  0.84609494],\n",
       "       [ 0.94872213,  0.4172741 ,  0.03149489,  0.37758548,  0.05584993],\n",
       "       [ 0.41393723,  0.74937063,  0.50871866,  0.26172463,  0.59945544],\n",
       "       [ 0.31460996,  0.74583778,  0.12199519,  0.75901197,  0.79566404],\n",
       "       [ 0.12825937,  0.55174764,  0.98783577,  0.43968635,  0.73804335],\n",
       "       [ 0.48073007,  0.66265303,  0.98466942,  0.6405562 ,  0.53373179],\n",
       "       [ 0.01953521,  0.38112614,  0.67823616,  0.67755549,  0.49054199],\n",
       "       [ 0.80847419,  0.40023735,  0.66764846,  0.55571731,  0.55757749],\n",
       "       [ 0.65239818,  0.33436838,  0.52608514,  0.57523048,  0.8026535 ],\n",
       "       [ 0.33989711,  0.81879502,  0.16210972,  0.05512737,  0.39542784],\n",
       "       [ 0.64996638,  0.92442648,  0.30309278,  0.06699093,  0.45710944]])"
      ]
     },
     "execution_count": 182,
     "metadata": {},
     "output_type": "execute_result"
    }
   ],
   "source": [
    "X[:100,:]"
   ]
  },
  {
   "cell_type": "code",
   "execution_count": 184,
   "metadata": {},
   "outputs": [
    {
     "data": {
      "text/plain": [
       "(1000, 5)"
      ]
     },
     "execution_count": 184,
     "metadata": {},
     "output_type": "execute_result"
    }
   ],
   "source": [
    "#Student - put in a command to see the dimensions of X\n",
    "X.shape"
   ]
  },
  {
   "cell_type": "markdown",
   "metadata": {},
   "source": [
    "### Exercise 2 (8 points)\n",
    "\n",
    "Later in this course, we are going to learn about logistic regression. In this exercise, we are going to design a scoring function to practice numpy.\n",
    "\n",
    "For quick intro, the scoring function of logistic regression takes the form of $f(x \\cdot\\beta^T)$, where $x$ is the $1\\times K$ vector of features and $\\beta$ is the $1\\times K$ vector of weights. The function $f$, also called a 'link' function, is the inverse logit: <br><br>\n",
    "\n",
    "<center>$f(a)=\\frac{1}{1+e^{-a}}$</center> <br><br>\n",
    "\n",
    "In this exercise, we write a function that, given inputs of $x$ and $\\beta$, returns a value for the scoring function. Usually, we want to evaluate such a function on multiple inputs. We then can organize the $N$ input vectors into an $N\\times K$ matrix and use vectorization to produce the resulting $N$-long output vector.\n",
    "<br><br>\n",
    "First let us generate a random set of weights to represent $\\beta$."
   ]
  },
  {
   "cell_type": "code",
   "execution_count": 193,
   "metadata": {},
   "outputs": [
    {
     "data": {
      "text/plain": [
       "array([-0.29893535, -0.68967917, -0.50979006,  0.84081103, -0.05625671])"
      ]
     },
     "execution_count": 193,
     "metadata": {},
     "output_type": "execute_result"
    }
   ],
   "source": [
    "K = 5\n",
    "N = 10\n",
    "\n",
    "# Student - generate a K dimensional vector of uniform random variables in the interval [-1, 1]\n",
    "# by generating one with interval $[0,1]$ and transforming it appropriately.\n",
    "beta = np.random.rand(K)\n",
    "beta = 2*(beta -.5)\n",
    "beta"
   ]
  },
  {
   "cell_type": "markdown",
   "metadata": {},
   "source": [
    "Now let's write our scoring function. Let's try to use as much of Numpy's inner optimization as possible (hint, this can be done in two lines and without writing any loops). The key is that numpy functions that would normally take in a scalar can also take in an array, and the function applies the operations element wise to the array and returns an array. i.e.:"
   ]
  },
  {
   "cell_type": "code",
   "execution_count": 194,
   "metadata": {},
   "outputs": [
    {
     "data": {
      "text/plain": [
       "array([1, 1])"
      ]
     },
     "execution_count": 194,
     "metadata": {},
     "output_type": "execute_result"
    }
   ],
   "source": [
    "ex_array = np.array([-1, 1])\n",
    "np.abs(ex_array)"
   ]
  },
  {
   "cell_type": "markdown",
   "metadata": {},
   "source": [
    "Let's use this feature to write a fast and clean scoring function"
   ]
  },
  {
   "cell_type": "code",
   "execution_count": 196,
   "metadata": {},
   "outputs": [],
   "source": [
    "def score_logistic_regression(X, beta):\n",
    "    '''\n",
    "    This function takes in an NxK matrix X and 1xK vector beta.\n",
    "    The function should apply the logistic scoring function to each record of X.\n",
    "    The output should be an Nx1 vector of scores\n",
    "    '''\n",
    "    \n",
    "    #First let's calculate X*beta - make sure to use numpy's 'dot' method\n",
    "    #student - put in code here\n",
    "    dot = X.dot(beta)\n",
    "    \n",
    "    #Now let's input this into the link function\n",
    "    #student - put in code here, use np.exp() for the exponential.\n",
    "    prob_score = 1/(1+np.exp(-1*dot))\n",
    "    return prob_score"
   ]
  },
  {
   "cell_type": "markdown",
   "metadata": {},
   "source": [
    "### Exercise 3 (8 points)\n",
    "\n",
    "So how much faster is it by using Numpy? We can test this be writing the same function that uses no Numpy and executes via loops:"
   ]
  },
  {
   "cell_type": "code",
   "execution_count": 197,
   "metadata": {},
   "outputs": [],
   "source": [
    "import math\n",
    "\n",
    "def score_logistic_regression_NoNumpy(X, beta):\n",
    "    '''\n",
    "    This function takes in an NxK matrix X and 1xK vector beta.\n",
    "    The function should apply the logistic scoring function to each record of X.\n",
    "    The output should be an Nx1 vector of scores\n",
    "    '''\n",
    "    #Let's calculate xbeta using loops\n",
    "    xbeta = []\n",
    "    for row in X:\n",
    "        xb = 0\n",
    "        for index, element in enumerate(row): # Google what enumerating a vector means.\n",
    "            # student - compute X*Beta in the loop\n",
    "            xb += beta[index]*element\n",
    "        xbeta.append(xb)\n",
    "        \n",
    "    #Now let's apply the link function to each xbeta\n",
    "    prob_score = []\n",
    "    for xb in xbeta:\n",
    "        # student - compute the logit p of xb in the loop. Use math.exp() for the exponential\n",
    "        p = 1/(1+math.exp(-1*xb))\n",
    "        prob_score.append(p)\n",
    "        \n",
    "    return prob_score"
   ]
  },
  {
   "cell_type": "markdown",
   "metadata": {},
   "source": [
    "Before doing any analysis, let's test the output of each to make sure they equal."
   ]
  },
  {
   "cell_type": "code",
   "execution_count": 224,
   "metadata": {},
   "outputs": [
    {
     "name": "stdout",
     "output_type": "stream",
     "text": [
      "Same\n"
     ]
    }
   ],
   "source": [
    "X = np.random.rand(N,K) # Generate a random NxK matrix\n",
    "\n",
    "# Student - write a test that calls each function with the same \n",
    "# inputs X and beta and checks to see if they return the same values.\n",
    "\n",
    "diff = np.abs(score_logistic_regression_NoNumpy(X, beta) - score_logistic_regression(X, beta))\n",
    "diff = np.round(diff.sum(), 8)\n",
    "if diff == 0: print('Same')\n",
    "else: print('Not Same')"
   ]
  },
  {
   "cell_type": "markdown",
   "metadata": {},
   "source": [
    "If they equal then we can proceed with timing analysis:"
   ]
  },
  {
   "cell_type": "code",
   "execution_count": 206,
   "metadata": {},
   "outputs": [
    {
     "name": "stdout",
     "output_type": "stream",
     "text": [
      "32.9 µs ± 489 ns per loop (mean ± std. dev. of 7 runs, 10000 loops each)\n"
     ]
    }
   ],
   "source": [
    "%timeit score_logistic_regression_NoNumpy(X, beta)"
   ]
  },
  {
   "cell_type": "code",
   "execution_count": 207,
   "metadata": {},
   "outputs": [
    {
     "name": "stdout",
     "output_type": "stream",
     "text": [
      "4.57 µs ± 111 ns per loop (mean ± std. dev. of 7 runs, 100000 loops each)\n"
     ]
    }
   ],
   "source": [
    "%timeit score_logistic_regression(X, beta)"
   ]
  },
  {
   "cell_type": "markdown",
   "metadata": {},
   "source": [
    "# Part 3: Pandas (18 points)"
   ]
  },
  {
   "cell_type": "code",
   "execution_count": 125,
   "metadata": {
    "collapsed": true
   },
   "outputs": [],
   "source": [
    "import pandas as pd\n",
    "import os\n",
    "import matplotlib.pyplot as plt\n",
    "import numpy "
   ]
  },
  {
   "cell_type": "markdown",
   "metadata": {},
   "source": [
    "In this set of exercises we are going to do simple data exploration using Pandas. Our objective is to practice basic operations that aid in visual data exploration. Let us first load our datafile loansData.csv."
   ]
  },
  {
   "cell_type": "markdown",
   "metadata": {},
   "source": [
    "### Exercise 1 (2 points)"
   ]
  },
  {
   "cell_type": "code",
   "execution_count": 6,
   "metadata": {
    "collapsed": true
   },
   "outputs": [],
   "source": [
    "cwd = os.getcwd()\n",
    "\n",
    "#If on MAC, this will likely work\n",
    "#datadir = '/'.join(cwd.split('/')[0:-1]) + '/data/'\n",
    "#If on window's machine, explicitly put in data dir\n",
    "datadir = 'C:/Users/David/Desktop/loansData.csv'\n",
    "\n",
    "#Now read in the dataset loansdata.csv\n",
    "loansData =pd.read_csv(datadir)"
   ]
  },
  {
   "cell_type": "markdown",
   "metadata": {},
   "source": [
    "### Exercise 2 (4 points)\n",
    "\n",
    "Let's take a look at the column names, in a nicely readable way:"
   ]
  },
  {
   "cell_type": "code",
   "execution_count": 7,
   "metadata": {},
   "outputs": [
    {
     "name": "stdout",
     "output_type": "stream",
     "text": [
      "Column Names Are:\n",
      "\n",
      "CustNUm\n",
      "Amount.Requested\n",
      "Amount.Funded.By.Investors\n",
      "Interest.Rate\n",
      "Loan.Length\n",
      "Loan.Purpose\n",
      "Debt.To.Income.Ratio\n",
      "State\n",
      "Home.Ownership\n",
      "Monthly.Income\n",
      "FICO.Range\n",
      "Open.CREDIT.Lines\n",
      "Revolving.CREDIT.Balance\n",
      "Inquiries.in.the.Last.6.Months\n",
      "Employment.Length\n",
      "\n",
      "Total # of Columns = 15\n"
     ]
    }
   ],
   "source": [
    "print(\"Column Names Are:\")\n",
    "print(\"\")\n",
    "\n",
    "for column_name in loansData.columns.values:\n",
    "    print(column_name)\n",
    "\n",
    "print(\"\")\n",
    "print('Total # of Columns = {}'.format(len(loansData.columns)))"
   ]
  },
  {
   "cell_type": "markdown",
   "metadata": {},
   "source": [
    "It is oftentimes helpful to take a quick glance at the first few records (when possible). This is an easy way to discover basic data flaws (i.e., all nulls, misaligned fields, etc.). Take a look at the first couple of entries and then take a look at the summary statistics. Transpose the resulting DataFrames using the *transpose()* method of the DataFrame object."
   ]
  },
  {
   "cell_type": "code",
   "execution_count": 8,
   "metadata": {},
   "outputs": [
    {
     "data": {
      "text/html": [
       "<div>\n",
       "<style>\n",
       "    .dataframe thead tr:only-child th {\n",
       "        text-align: right;\n",
       "    }\n",
       "\n",
       "    .dataframe thead th {\n",
       "        text-align: left;\n",
       "    }\n",
       "\n",
       "    .dataframe tbody tr th {\n",
       "        vertical-align: top;\n",
       "    }\n",
       "</style>\n",
       "<table border=\"1\" class=\"dataframe\">\n",
       "  <thead>\n",
       "    <tr style=\"text-align: right;\">\n",
       "      <th></th>\n",
       "      <th>0</th>\n",
       "      <th>1</th>\n",
       "      <th>2</th>\n",
       "      <th>3</th>\n",
       "      <th>4</th>\n",
       "    </tr>\n",
       "  </thead>\n",
       "  <tbody>\n",
       "    <tr>\n",
       "      <th>CustNUm</th>\n",
       "      <td>81174</td>\n",
       "      <td>99592</td>\n",
       "      <td>80059</td>\n",
       "      <td>15825</td>\n",
       "      <td>33182</td>\n",
       "    </tr>\n",
       "    <tr>\n",
       "      <th>Amount.Requested</th>\n",
       "      <td>20000</td>\n",
       "      <td>19200</td>\n",
       "      <td>35000</td>\n",
       "      <td>10000</td>\n",
       "      <td>12000</td>\n",
       "    </tr>\n",
       "    <tr>\n",
       "      <th>Amount.Funded.By.Investors</th>\n",
       "      <td>20000</td>\n",
       "      <td>19200</td>\n",
       "      <td>35000</td>\n",
       "      <td>9975</td>\n",
       "      <td>12000</td>\n",
       "    </tr>\n",
       "    <tr>\n",
       "      <th>Interest.Rate</th>\n",
       "      <td>8.90%</td>\n",
       "      <td>12.12%</td>\n",
       "      <td>21.98%</td>\n",
       "      <td>9.99%</td>\n",
       "      <td>11.71%</td>\n",
       "    </tr>\n",
       "    <tr>\n",
       "      <th>Loan.Length</th>\n",
       "      <td>36 months</td>\n",
       "      <td>36 months</td>\n",
       "      <td>60 months</td>\n",
       "      <td>36 months</td>\n",
       "      <td>36 months</td>\n",
       "    </tr>\n",
       "    <tr>\n",
       "      <th>Loan.Purpose</th>\n",
       "      <td>debt_consolidation</td>\n",
       "      <td>debt_consolidation</td>\n",
       "      <td>debt_consolidation</td>\n",
       "      <td>debt_consolidation</td>\n",
       "      <td>credit_card</td>\n",
       "    </tr>\n",
       "    <tr>\n",
       "      <th>Debt.To.Income.Ratio</th>\n",
       "      <td>14.90%</td>\n",
       "      <td>28.36%</td>\n",
       "      <td>23.81%</td>\n",
       "      <td>14.30%</td>\n",
       "      <td>18.78%</td>\n",
       "    </tr>\n",
       "    <tr>\n",
       "      <th>State</th>\n",
       "      <td>SC</td>\n",
       "      <td>TX</td>\n",
       "      <td>CA</td>\n",
       "      <td>KS</td>\n",
       "      <td>NJ</td>\n",
       "    </tr>\n",
       "    <tr>\n",
       "      <th>Home.Ownership</th>\n",
       "      <td>MORTGAGE</td>\n",
       "      <td>MORTGAGE</td>\n",
       "      <td>MORTGAGE</td>\n",
       "      <td>MORTGAGE</td>\n",
       "      <td>RENT</td>\n",
       "    </tr>\n",
       "    <tr>\n",
       "      <th>Monthly.Income</th>\n",
       "      <td>6541.67</td>\n",
       "      <td>4583.33</td>\n",
       "      <td>11500</td>\n",
       "      <td>3833.33</td>\n",
       "      <td>3195</td>\n",
       "    </tr>\n",
       "    <tr>\n",
       "      <th>FICO.Range</th>\n",
       "      <td>735-739</td>\n",
       "      <td>715-719</td>\n",
       "      <td>690-694</td>\n",
       "      <td>695-699</td>\n",
       "      <td>695-699</td>\n",
       "    </tr>\n",
       "    <tr>\n",
       "      <th>Open.CREDIT.Lines</th>\n",
       "      <td>14</td>\n",
       "      <td>12</td>\n",
       "      <td>14</td>\n",
       "      <td>10</td>\n",
       "      <td>11</td>\n",
       "    </tr>\n",
       "    <tr>\n",
       "      <th>Revolving.CREDIT.Balance</th>\n",
       "      <td>14272</td>\n",
       "      <td>11140</td>\n",
       "      <td>21977</td>\n",
       "      <td>9346</td>\n",
       "      <td>14469</td>\n",
       "    </tr>\n",
       "    <tr>\n",
       "      <th>Inquiries.in.the.Last.6.Months</th>\n",
       "      <td>2</td>\n",
       "      <td>1</td>\n",
       "      <td>1</td>\n",
       "      <td>0</td>\n",
       "      <td>0</td>\n",
       "    </tr>\n",
       "    <tr>\n",
       "      <th>Employment.Length</th>\n",
       "      <td>&lt; 1 year</td>\n",
       "      <td>2 years</td>\n",
       "      <td>2 years</td>\n",
       "      <td>5 years</td>\n",
       "      <td>9 years</td>\n",
       "    </tr>\n",
       "  </tbody>\n",
       "</table>\n",
       "</div>"
      ],
      "text/plain": [
       "                                                 0                   1  \\\n",
       "CustNUm                                      81174               99592   \n",
       "Amount.Requested                             20000               19200   \n",
       "Amount.Funded.By.Investors                   20000               19200   \n",
       "Interest.Rate                                8.90%              12.12%   \n",
       "Loan.Length                              36 months           36 months   \n",
       "Loan.Purpose                    debt_consolidation  debt_consolidation   \n",
       "Debt.To.Income.Ratio                        14.90%              28.36%   \n",
       "State                                           SC                  TX   \n",
       "Home.Ownership                            MORTGAGE            MORTGAGE   \n",
       "Monthly.Income                             6541.67             4583.33   \n",
       "FICO.Range                                 735-739             715-719   \n",
       "Open.CREDIT.Lines                               14                  12   \n",
       "Revolving.CREDIT.Balance                     14272               11140   \n",
       "Inquiries.in.the.Last.6.Months                   2                   1   \n",
       "Employment.Length                         < 1 year             2 years   \n",
       "\n",
       "                                                 2                   3  \\\n",
       "CustNUm                                      80059               15825   \n",
       "Amount.Requested                             35000               10000   \n",
       "Amount.Funded.By.Investors                   35000                9975   \n",
       "Interest.Rate                               21.98%               9.99%   \n",
       "Loan.Length                              60 months           36 months   \n",
       "Loan.Purpose                    debt_consolidation  debt_consolidation   \n",
       "Debt.To.Income.Ratio                        23.81%              14.30%   \n",
       "State                                           CA                  KS   \n",
       "Home.Ownership                            MORTGAGE            MORTGAGE   \n",
       "Monthly.Income                               11500             3833.33   \n",
       "FICO.Range                                 690-694             695-699   \n",
       "Open.CREDIT.Lines                               14                  10   \n",
       "Revolving.CREDIT.Balance                     21977                9346   \n",
       "Inquiries.in.the.Last.6.Months                   1                   0   \n",
       "Employment.Length                          2 years             5 years   \n",
       "\n",
       "                                          4  \n",
       "CustNUm                               33182  \n",
       "Amount.Requested                      12000  \n",
       "Amount.Funded.By.Investors            12000  \n",
       "Interest.Rate                        11.71%  \n",
       "Loan.Length                       36 months  \n",
       "Loan.Purpose                    credit_card  \n",
       "Debt.To.Income.Ratio                 18.78%  \n",
       "State                                    NJ  \n",
       "Home.Ownership                         RENT  \n",
       "Monthly.Income                         3195  \n",
       "FICO.Range                          695-699  \n",
       "Open.CREDIT.Lines                        11  \n",
       "Revolving.CREDIT.Balance              14469  \n",
       "Inquiries.in.the.Last.6.Months            0  \n",
       "Employment.Length                   9 years  "
      ]
     },
     "execution_count": 8,
     "metadata": {},
     "output_type": "execute_result"
    }
   ],
   "source": [
    "loansData.head().transpose()"
   ]
  },
  {
   "cell_type": "markdown",
   "metadata": {},
   "source": [
    "### Exercise 3 (6 points)"
   ]
  },
  {
   "cell_type": "markdown",
   "metadata": {},
   "source": [
    "Let's now focus on a single column, 'Monthly.Income.' First things first, let's display the first five records of just this field."
   ]
  },
  {
   "cell_type": "code",
   "execution_count": 9,
   "metadata": {},
   "outputs": [
    {
     "data": {
      "text/plain": [
       "0     6541.67\n",
       "1     4583.33\n",
       "2    11500.00\n",
       "3     3833.33\n",
       "4     3195.00\n",
       "Name: Monthly.Income, dtype: float64"
      ]
     },
     "execution_count": 9,
     "metadata": {},
     "output_type": "execute_result"
    }
   ],
   "source": [
    "loansData['Monthly.Income'][0:5]"
   ]
  },
  {
   "cell_type": "markdown",
   "metadata": {},
   "source": [
    "Let's try and understand the distribution of this field. We can do this using the hist() method and matplotlib."
   ]
  },
  {
   "cell_type": "code",
   "execution_count": 10,
   "metadata": {},
   "outputs": [
    {
     "data": {
      "image/png": "[encoded data removed]",
      "text/plain": [
       "<matplotlib.figure.Figure at 0x15458c3e320>"
      ]
     },
     "metadata": {},
     "output_type": "display_data"
    }
   ],
   "source": [
    "hist_inc = loansData['Monthly.Income'].hist()\n",
    "plt.title('Histogram of Monthly Income')\n",
    "plt.show()"
   ]
  },
  {
   "cell_type": "markdown",
   "metadata": {},
   "source": [
    "This is not very informative. To allow for a little more differentiation, let's create a new column in the dataframe called 'Monthly.LogIncome' and print a histogram of it."
   ]
  },
  {
   "cell_type": "code",
   "execution_count": 11,
   "metadata": {},
   "outputs": [],
   "source": [
    "loansData['Monthly.LogIncome'] = numpy.log(loansData['Monthly.Income']) "
   ]
  },
  {
   "cell_type": "code",
   "execution_count": 12,
   "metadata": {},
   "outputs": [
    {
     "data": {
      "image/png": "[encoded data removed]",
      "text/plain": [
       "<matplotlib.figure.Figure at 0x1545911ca90>"
      ]
     },
     "metadata": {},
     "output_type": "display_data"
    }
   ],
   "source": [
    "h = loansData['Monthly.LogIncome'].hist()\n",
    "plt.title('Histogram of Log Monthly Income ')\n",
    "plt.show()"
   ]
  },
  {
   "cell_type": "markdown",
   "metadata": {},
   "source": [
    "### Exercise 4 (6 points)"
   ]
  },
  {
   "cell_type": "markdown",
   "metadata": {},
   "source": [
    "Finally, we answer some questions about the data. What is the cardinality (i.e., # of distinct values) for 'Interest.Rate' and 'FICO.Range'?"
   ]
  },
  {
   "cell_type": "code",
   "execution_count": 165,
   "metadata": {
    "scrolled": true
   },
   "outputs": [
    {
     "name": "stdout",
     "output_type": "stream",
     "text": [
      "Cardinality for Interest.Rate = 275\n",
      "Cardinality for FICO.Range = 38\n"
     ]
    }
   ],
   "source": [
    "print('Cardinality for Interest.Rate = {}'.format(loansData['Interest.Rate'].describe()['unique']))\n",
    "print('Cardinality for FICO.Range = {}'.format(loansData['FICO.Range'].describe()['unique']))"
   ]
  },
  {
   "cell_type": "markdown",
   "metadata": {},
   "source": [
    "Can we get a sense of the relationship between monthly income and interest rate? Use the scatter() function from Matplotlib."
   ]
  },
  {
   "cell_type": "code",
   "execution_count": 188,
   "metadata": {},
   "outputs": [
    {
     "data": {
      "image/png": "[encoded data removed]",
      "text/plain": [
       "<matplotlib.figure.Figure at 0x273bd213fd0>"
      ]
     },
     "metadata": {},
     "output_type": "display_data"
    }
   ],
   "source": [
    "loansData['Interest.Rate.Value'] = loansData['Interest.Rate'].str.strip('%').astype(float)\n",
    "plt.scatter(loansData['Monthly.Income'], loansData['Interest.Rate.Value'])\n",
    "plt.show()"
   ]
  },
  {
   "cell_type": "markdown",
   "metadata": {},
   "source": [
    "What is the average interest rate for each FICO range? \n",
    "Hint: use the groupby() method in Pandas."
   ]
  },
  {
   "cell_type": "code",
   "execution_count": 189,
   "metadata": {
    "collapsed": true
   },
   "outputs": [],
   "source": [
    "fico_grp = loansData[['Interest.Rate.Value', 'FICO.Range']].groupby(['FICO.Range']).mean()"
   ]
  },
  {
   "cell_type": "code",
   "execution_count": 190,
   "metadata": {},
   "outputs": [
    {
     "data": {
      "text/html": [
       "<div>\n",
       "<style>\n",
       "    .dataframe thead tr:only-child th {\n",
       "        text-align: right;\n",
       "    }\n",
       "\n",
       "    .dataframe thead th {\n",
       "        text-align: left;\n",
       "    }\n",
       "\n",
       "    .dataframe tbody tr th {\n",
       "        vertical-align: top;\n",
       "    }\n",
       "</style>\n",
       "<table border=\"1\" class=\"dataframe\">\n",
       "  <thead>\n",
       "    <tr style=\"text-align: right;\">\n",
       "      <th></th>\n",
       "      <th>Interest.Rate.Value</th>\n",
       "    </tr>\n",
       "    <tr>\n",
       "      <th>FICO.Range</th>\n",
       "      <th></th>\n",
       "    </tr>\n",
       "  </thead>\n",
       "  <tbody>\n",
       "    <tr>\n",
       "      <th>640-644</th>\n",
       "      <td>15.212000</td>\n",
       "    </tr>\n",
       "    <tr>\n",
       "      <th>645-649</th>\n",
       "      <td>14.883333</td>\n",
       "    </tr>\n",
       "    <tr>\n",
       "      <th>650-654</th>\n",
       "      <td>15.130000</td>\n",
       "    </tr>\n",
       "    <tr>\n",
       "      <th>655-659</th>\n",
       "      <td>14.930000</td>\n",
       "    </tr>\n",
       "    <tr>\n",
       "      <th>660-664</th>\n",
       "      <td>18.492480</td>\n",
       "    </tr>\n",
       "    <tr>\n",
       "      <th>665-669</th>\n",
       "      <td>17.448069</td>\n",
       "    </tr>\n",
       "    <tr>\n",
       "      <th>670-674</th>\n",
       "      <td>16.248480</td>\n",
       "    </tr>\n",
       "    <tr>\n",
       "      <th>675-679</th>\n",
       "      <td>15.854699</td>\n",
       "    </tr>\n",
       "    <tr>\n",
       "      <th>680-684</th>\n",
       "      <td>15.126688</td>\n",
       "    </tr>\n",
       "    <tr>\n",
       "      <th>685-689</th>\n",
       "      <td>14.654855</td>\n",
       "    </tr>\n",
       "    <tr>\n",
       "      <th>690-694</th>\n",
       "      <td>14.732071</td>\n",
       "    </tr>\n",
       "    <tr>\n",
       "      <th>695-699</th>\n",
       "      <td>14.146863</td>\n",
       "    </tr>\n",
       "    <tr>\n",
       "      <th>700-704</th>\n",
       "      <td>13.356870</td>\n",
       "    </tr>\n",
       "    <tr>\n",
       "      <th>705-709</th>\n",
       "      <td>12.659851</td>\n",
       "    </tr>\n",
       "    <tr>\n",
       "      <th>710-714</th>\n",
       "      <td>12.433125</td>\n",
       "    </tr>\n",
       "    <tr>\n",
       "      <th>715-719</th>\n",
       "      <td>11.181935</td>\n",
       "    </tr>\n",
       "    <tr>\n",
       "      <th>720-724</th>\n",
       "      <td>11.035789</td>\n",
       "    </tr>\n",
       "    <tr>\n",
       "      <th>725-729</th>\n",
       "      <td>10.652979</td>\n",
       "    </tr>\n",
       "    <tr>\n",
       "      <th>730-734</th>\n",
       "      <td>9.956170</td>\n",
       "    </tr>\n",
       "    <tr>\n",
       "      <th>735-739</th>\n",
       "      <td>9.623538</td>\n",
       "    </tr>\n",
       "    <tr>\n",
       "      <th>740-744</th>\n",
       "      <td>9.592264</td>\n",
       "    </tr>\n",
       "    <tr>\n",
       "      <th>745-749</th>\n",
       "      <td>9.901667</td>\n",
       "    </tr>\n",
       "    <tr>\n",
       "      <th>750-754</th>\n",
       "      <td>8.467705</td>\n",
       "    </tr>\n",
       "    <tr>\n",
       "      <th>755-759</th>\n",
       "      <td>8.996087</td>\n",
       "    </tr>\n",
       "    <tr>\n",
       "      <th>760-764</th>\n",
       "      <td>8.627609</td>\n",
       "    </tr>\n",
       "    <tr>\n",
       "      <th>765-769</th>\n",
       "      <td>7.783333</td>\n",
       "    </tr>\n",
       "    <tr>\n",
       "      <th>770-774</th>\n",
       "      <td>6.752941</td>\n",
       "    </tr>\n",
       "    <tr>\n",
       "      <th>775-779</th>\n",
       "      <td>8.744091</td>\n",
       "    </tr>\n",
       "    <tr>\n",
       "      <th>780-784</th>\n",
       "      <td>7.589286</td>\n",
       "    </tr>\n",
       "    <tr>\n",
       "      <th>785-789</th>\n",
       "      <td>8.497895</td>\n",
       "    </tr>\n",
       "    <tr>\n",
       "      <th>790-794</th>\n",
       "      <td>7.560500</td>\n",
       "    </tr>\n",
       "    <tr>\n",
       "      <th>795-799</th>\n",
       "      <td>8.391538</td>\n",
       "    </tr>\n",
       "    <tr>\n",
       "      <th>800-804</th>\n",
       "      <td>7.638462</td>\n",
       "    </tr>\n",
       "    <tr>\n",
       "      <th>805-809</th>\n",
       "      <td>7.426364</td>\n",
       "    </tr>\n",
       "    <tr>\n",
       "      <th>810-814</th>\n",
       "      <td>8.293750</td>\n",
       "    </tr>\n",
       "    <tr>\n",
       "      <th>815-819</th>\n",
       "      <td>6.925000</td>\n",
       "    </tr>\n",
       "    <tr>\n",
       "      <th>820-824</th>\n",
       "      <td>7.900000</td>\n",
       "    </tr>\n",
       "    <tr>\n",
       "      <th>830-834</th>\n",
       "      <td>7.620000</td>\n",
       "    </tr>\n",
       "  </tbody>\n",
       "</table>\n",
       "</div>"
      ],
      "text/plain": [
       "            Interest.Rate.Value\n",
       "FICO.Range                     \n",
       "640-644               15.212000\n",
       "645-649               14.883333\n",
       "650-654               15.130000\n",
       "655-659               14.930000\n",
       "660-664               18.492480\n",
       "665-669               17.448069\n",
       "670-674               16.248480\n",
       "675-679               15.854699\n",
       "680-684               15.126688\n",
       "685-689               14.654855\n",
       "690-694               14.732071\n",
       "695-699               14.146863\n",
       "700-704               13.356870\n",
       "705-709               12.659851\n",
       "710-714               12.433125\n",
       "715-719               11.181935\n",
       "720-724               11.035789\n",
       "725-729               10.652979\n",
       "730-734                9.956170\n",
       "735-739                9.623538\n",
       "740-744                9.592264\n",
       "745-749                9.901667\n",
       "750-754                8.467705\n",
       "755-759                8.996087\n",
       "760-764                8.627609\n",
       "765-769                7.783333\n",
       "770-774                6.752941\n",
       "775-779                8.744091\n",
       "780-784                7.589286\n",
       "785-789                8.497895\n",
       "790-794                7.560500\n",
       "795-799                8.391538\n",
       "800-804                7.638462\n",
       "805-809                7.426364\n",
       "810-814                8.293750\n",
       "815-819                6.925000\n",
       "820-824                7.900000\n",
       "830-834                7.620000"
      ]
     },
     "execution_count": 190,
     "metadata": {},
     "output_type": "execute_result"
    }
   ],
   "source": [
    "fico_grp"
   ]
  },
  {
   "cell_type": "code",
   "execution_count": null,
   "metadata": {
    "collapsed": true
   },
   "outputs": [],
   "source": []
  }
 ],
 "metadata": {
  "anaconda-cloud": {},
  "kernelspec": {
   "display_name": "Python 3",
   "language": "python",
   "name": "python3"
  },
  "language_info": {
   "codemirror_mode": {
    "name": "ipython",
    "version": 3
   },
   "file_extension": ".py",
   "mimetype": "text/x-python",
   "name": "python",
   "nbconvert_exporter": "python",
   "pygments_lexer": "ipython3",
   "version": "3.6.3"
  }
 },
 "nbformat": 4,
 "nbformat_minor": 1
}
